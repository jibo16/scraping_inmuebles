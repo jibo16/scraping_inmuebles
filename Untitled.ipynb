{
 "cells": [
  {
   "cell_type": "code",
   "execution_count": 1,
   "id": "cf238967-0e75-4f0c-9137-9c4f53c17117",
   "metadata": {},
   "outputs": [],
   "source": [
    "import requests\n",
    "import cloudscraper\n",
    "import time\n",
    "from stem import Signal\n",
    "from stem.control import Controller\n",
    "from untitled import *"
   ]
  },
  {
   "cell_type": "code",
   "execution_count": 5,
   "id": "5b36f472-03d0-4876-ae2f-0e5cbd8ad5ae",
   "metadata": {},
   "outputs": [
    {
     "name": "stdout",
     "output_type": "stream",
     "text": [
      "{\n",
      "  \"origin\": \"107.189.5.121\"\n",
      "}\n",
      "\n",
      "{\n",
      "  \"origin\": \"189.144.249.140\"\n",
      "}\n",
      "\n"
     ]
    }
   ],
   "source": [
    "def get_tor_session():\n",
    "    # session = requests.session()\n",
    "    session = cloudscraper.create_scraper()\n",
    "    # Tor uses the 9050 port as the default socks port\n",
    "    session.proxies = {'http':  'socks5://127.0.0.1:9050',\n",
    "                       'https': 'socks5://127.0.0.1:9050'}\n",
    "    return session\n",
    "\n",
    "\n",
    "# Make a request through the Tor connection\n",
    "# IP visible through Tor\n",
    "session = get_tor_session()\n",
    "print(session.get(\"http://httpbin.org/ip\").text)\n",
    "# Above should print an IP different than your public IP\n",
    "# Following prints your normal public IP\n",
    "print(requests.get(\"http://httpbin.org/ip\").text)"
   ]
  },
  {
   "cell_type": "code",
   "execution_count": 32,
   "id": "318cf0f6-8289-4b3a-ab34-3120a2927678",
   "metadata": {},
   "outputs": [],
   "source": [
    "def renew_tor_ip():\n",
    "    with Controller.from_port(port=9051) as controller:\n",
    "        controller.authenticate(password=tor_initiator)\n",
    "        controller.signal(Signal.NEWNYM)"
   ]
  },
  {
   "cell_type": "code",
   "execution_count": 48,
   "id": "dd180bbb-e7c6-4fb9-bd68-e63883dd9f24",
   "metadata": {},
   "outputs": [
    {
     "name": "stdout",
     "output_type": "stream",
     "text": [
      "{\n",
      "  \"origin\": \"109.70.100.3\"\n",
      "}\n",
      "\n"
     ]
    }
   ],
   "source": [
    "print(session.get(\"http://httpbin.org/ip\").text)"
   ]
  },
  {
   "cell_type": "code",
   "execution_count": 49,
   "id": "ba96ca2b-0fd9-47a4-8742-eead54ae33aa",
   "metadata": {},
   "outputs": [],
   "source": [
    "renew_tor_ip()\n",
    "session = get_tor_session()"
   ]
  },
  {
   "cell_type": "code",
   "execution_count": 50,
   "id": "c36c4007-fd64-4ffe-94d7-5b2a094cbde3",
   "metadata": {},
   "outputs": [
    {
     "name": "stdout",
     "output_type": "stream",
     "text": [
      "{\n",
      "  \"origin\": \"185.220.101.178\"\n",
      "}\n",
      "\n"
     ]
    }
   ],
   "source": [
    "print(session.get(\"http://httpbin.org/ip\").text)"
   ]
  },
  {
   "cell_type": "code",
   "execution_count": 51,
   "id": "21467b84-9b49-49f1-a2ed-a1fe23416f54",
   "metadata": {},
   "outputs": [
    {
     "name": "stdout",
     "output_type": "stream",
     "text": [
      "{\n",
      "  \"origin\": \"185.220.101.178\"\n",
      "}\n",
      "\n",
      "{\n",
      "  \"origin\": \"185.220.101.178\"\n",
      "}\n",
      "\n",
      "{\n",
      "  \"origin\": \"185.220.101.178\"\n",
      "}\n",
      "\n",
      "{\n",
      "  \"origin\": \"162.247.74.27\"\n",
      "}\n",
      "\n",
      "{\n",
      "  \"origin\": \"162.247.74.27\"\n",
      "}\n",
      "\n"
     ]
    }
   ],
   "source": [
    "n = 0\n",
    "while n < 5:\n",
    "    session = get_tor_session()\n",
    "    print(session.get(\"http://httpbin.org/ip\").text)\n",
    "    if n == 2:\n",
    "        renew_tor_ip()\n",
    "    n+=1"
   ]
  },
  {
   "cell_type": "code",
   "execution_count": null,
   "id": "aa9fa9ab-83e7-4268-8a25-f70d0de39765",
   "metadata": {},
   "outputs": [],
   "source": []
  }
 ],
 "metadata": {
  "kernelspec": {
   "display_name": "Python 3 (ipykernel)",
   "language": "python",
   "name": "python3"
  },
  "language_info": {
   "codemirror_mode": {
    "name": "ipython",
    "version": 3
   },
   "file_extension": ".py",
   "mimetype": "text/x-python",
   "name": "python",
   "nbconvert_exporter": "python",
   "pygments_lexer": "ipython3",
   "version": "3.11.7"
  }
 },
 "nbformat": 4,
 "nbformat_minor": 5
}
