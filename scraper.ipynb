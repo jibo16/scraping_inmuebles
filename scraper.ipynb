{
 "cells": [
  {
   "cell_type": "code",
   "execution_count": 5,
   "id": "829c085f-9f21-44af-8fb9-e284d89ccb59",
   "metadata": {
    "tags": []
   },
   "outputs": [],
   "source": [
    "import cloudscraper\n",
    "from bs4 import BeautifulSoup as bsf"
   ]
  },
  {
   "cell_type": "code",
   "execution_count": 14,
   "id": "cc17d243-8cb6-488c-9c49-395f4a7e5766",
   "metadata": {
    "tags": []
   },
   "outputs": [
    {
     "data": {
      "text/plain": [
       "['https://www.inmuebles24.com/sitemap_prop_https_1.xml.gz',\n",
       " 'https://www.inmuebles24.com/sitemap_prop_https_2.xml.gz',\n",
       " 'https://www.inmuebles24.com/sitemap_prop_https_3.xml.gz',\n",
       " 'https://www.inmuebles24.com/sitemap_prop_https_4.xml.gz',\n",
       " 'https://www.inmuebles24.com/sitemap_prop_https_5.xml.gz',\n",
       " 'https://www.inmuebles24.com/sitemap_prop_https_6.xml.gz',\n",
       " 'https://www.inmuebles24.com/sitemap_prop_https_7.xml.gz',\n",
       " 'https://www.inmuebles24.com/sitemap_prop_https_8.xml.gz',\n",
       " 'https://www.inmuebles24.com/sitemap_prop_https_9.xml.gz',\n",
       " 'https://www.inmuebles24.com/sitemap_prop_https_10.xml.gz']"
      ]
     },
     "execution_count": 14,
     "metadata": {},
     "output_type": "execute_result"
    }
   ],
   "source": [
    "url = 'https://www.inmuebles24.com/sitemaps_https.xml'\n",
    "scraper = cloudscraper.create_scraper()\n",
    "\n",
    "res = scraper.get(url).text\n",
    "list_all_props = [i.text for i in bsf(res).find_all(\"loc\") if \"prop\" in i.text]\n",
    "list_all_props"
   ]
  },
  {
   "cell_type": "code",
   "execution_count": 19,
   "id": "c86c0aa3-f5df-4982-b75f-654ceded5333",
   "metadata": {
    "tags": []
   },
   "outputs": [
    {
     "data": {
      "text/plain": [
       "['https://www.inmuebles24.com/sitemap_list_https_1.xml.gz']"
      ]
     },
     "execution_count": 19,
     "metadata": {},
     "output_type": "execute_result"
    }
   ],
   "source": [
    "list_locs = [i.text for i in bsf(res).find_all(\"loc\") if \"list\" in i.text]\n",
    "list_locs"
   ]
  },
  {
   "cell_type": "code",
   "execution_count": 23,
   "id": "2d86be2f-8369-4868-9214-cf47cd09e221",
   "metadata": {},
   "outputs": [
    {
     "data": {
      "text/plain": [
       "['https://www.inmuebles24.com/sitemap_im_https_1.xml.gz']"
      ]
     },
     "execution_count": 23,
     "metadata": {},
     "output_type": "execute_result"
    }
   ],
   "source": [
    "inmobiliarias = [i.text for i in bsf(res).find_all(\"loc\") if \"im\" in i.text]\n",
    "inmobiliarias"
   ]
  },
  {
   "cell_type": "code",
   "execution_count": 24,
   "id": "dd1f5161-6ff4-46c6-b0cc-b693a03e064b",
   "metadata": {},
   "outputs": [
    {
     "data": {
      "text/plain": [
       "['https://www.inmuebles24.com/sitemap_core_https.xml.gz',\n",
       " 'https://www.inmuebles24.com/sitemap_list_https_1.xml.gz',\n",
       " 'https://www.inmuebles24.com/sitemap_prop_https_1.xml.gz',\n",
       " 'https://www.inmuebles24.com/sitemap_prop_https_2.xml.gz',\n",
       " 'https://www.inmuebles24.com/sitemap_prop_https_3.xml.gz',\n",
       " 'https://www.inmuebles24.com/sitemap_prop_https_4.xml.gz',\n",
       " 'https://www.inmuebles24.com/sitemap_prop_https_5.xml.gz',\n",
       " 'https://www.inmuebles24.com/sitemap_prop_https_6.xml.gz',\n",
       " 'https://www.inmuebles24.com/sitemap_prop_https_7.xml.gz',\n",
       " 'https://www.inmuebles24.com/sitemap_prop_https_8.xml.gz',\n",
       " 'https://www.inmuebles24.com/sitemap_prop_https_9.xml.gz',\n",
       " 'https://www.inmuebles24.com/sitemap_prop_https_10.xml.gz',\n",
       " 'https://www.inmuebles24.com/sitemap_im_https_1.xml.gz']"
      ]
     },
     "execution_count": 24,
     "metadata": {},
     "output_type": "execute_result"
    }
   ],
   "source": [
    "[i.text for i in bsf(res).find_all(\"loc\")]"
   ]
  },
  {
   "cell_type": "code",
   "execution_count": null,
   "id": "dfba31b8-b08e-4888-b1de-64fd545a19ba",
   "metadata": {},
   "outputs": [],
   "source": [
    "def download_all(url):\n",
    "    download = scraper.get(url)\n",
    "\n",
    "for i in list_all:\n",
    "    "
   ]
  }
 ],
 "metadata": {
  "kernelspec": {
   "display_name": "Python 3 (ipykernel)",
   "language": "python",
   "name": "python3"
  },
  "language_info": {
   "codemirror_mode": {
    "name": "ipython",
    "version": 3
   },
   "file_extension": ".py",
   "mimetype": "text/x-python",
   "name": "python",
   "nbconvert_exporter": "python",
   "pygments_lexer": "ipython3",
   "version": "3.11.4"
  }
 },
 "nbformat": 4,
 "nbformat_minor": 5
}
