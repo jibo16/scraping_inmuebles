{
 "cells": [
  {
   "cell_type": "code",
   "execution_count": 2,
   "id": "829c085f-9f21-44af-8fb9-e284d89ccb59",
   "metadata": {
    "tags": []
   },
   "outputs": [],
   "source": [
    "import cloudscraper "
   ]
  },
  {
   "cell_type": "code",
   "execution_count": 5,
   "id": "cc17d243-8cb6-488c-9c49-395f4a7e5766",
   "metadata": {
    "tags": []
   },
   "outputs": [
    {
     "name": "stdout",
     "output_type": "stream",
     "text": [
      "<?xml version=\"1.0\" encoding=\"UTF-8\" standalone=\"no\"?><sitemapindex xmlns=\"http://www.sitemaps.org/schemas/sitemap/0.9\">    <sitemap>        <loc>https://www.inmuebles24.com/sitemap_core_https.xml.gz</loc>        <lastmod>2023-03-25</lastmod>    </sitemap>    <sitemap>        <loc>https://www.inmuebles24.com/sitemap_list_https_1.xml.gz</loc>        <lastmod>2023-03-25</lastmod>    </sitemap>    <sitemap>        <loc>https://www.inmuebles24.com/sitemap_prop_https_1.xml.gz</loc>        <lastmod>2023-03-25</lastmod>    </sitemap>    <sitemap>        <loc>https://www.inmuebles24.com/sitemap_prop_https_2.xml.gz</loc>        <lastmod>2023-03-25</lastmod>    </sitemap>    <sitemap>        <loc>https://www.inmuebles24.com/sitemap_prop_https_3.xml.gz</loc>        <lastmod>2023-03-25</lastmod>    </sitemap>    <sitemap>        <loc>https://www.inmuebles24.com/sitemap_prop_https_4.xml.gz</loc>        <lastmod>2023-03-25</lastmod>    </sitemap>    <sitemap>        <loc>https://www.inmuebles24.com/sitemap_prop_https_5.xml.gz</loc>        <lastmod>2023-03-25</lastmod>    </sitemap>    <sitemap>        <loc>https://www.inmuebles24.com/sitemap_prop_https_6.xml.gz</loc>        <lastmod>2023-03-25</lastmod>    </sitemap>    <sitemap>        <loc>https://www.inmuebles24.com/sitemap_prop_https_7.xml.gz</loc>        <lastmod>2023-03-25</lastmod>    </sitemap>    <sitemap>        <loc>https://www.inmuebles24.com/sitemap_prop_https_8.xml.gz</loc>        <lastmod>2023-03-25</lastmod>    </sitemap>    <sitemap>        <loc>https://www.inmuebles24.com/sitemap_prop_https_9.xml.gz</loc>        <lastmod>2023-03-25</lastmod>    </sitemap>    <sitemap>        <loc>https://www.inmuebles24.com/sitemap_prop_https_10.xml.gz</loc>        <lastmod>2023-03-25</lastmod>    </sitemap>    <sitemap>        <loc>https://www.inmuebles24.com/sitemap_prop_https_11.xml.gz</loc>        <lastmod>2023-03-25</lastmod>    </sitemap>    <sitemap>        <loc>https://www.inmuebles24.com/sitemap_im_https_1.xml.gz</loc>        <lastmod>2023-03-25</lastmod>    </sitemap></sitemapindex>\n"
     ]
    }
   ],
   "source": [
    "url = 'https://www.inmuebles24.com/sitemaps_https.xml'\n",
    "scraper = cloudscraper.create_scraper()\n",
    "\n",
    "thx = scraper.get(url).text\n",
    "print(thx)"
   ]
  },
  {
   "cell_type": "code",
   "execution_count": 6,
   "id": "c86c0aa3-f5df-4982-b75f-654ceded5333",
   "metadata": {
    "tags": []
   },
   "outputs": [],
   "source": [
    "with open('testing.txt', 'w') as file:\n",
    "    file.write(thx)"
   ]
  }
 ],
 "metadata": {
  "kernelspec": {
   "display_name": "Python 3 (ipykernel)",
   "language": "python",
   "name": "python3"
  },
  "language_info": {
   "codemirror_mode": {
    "name": "ipython",
    "version": 3
   },
   "file_extension": ".py",
   "mimetype": "text/x-python",
   "name": "python",
   "nbconvert_exporter": "python",
   "pygments_lexer": "ipython3",
   "version": "3.9.2"
  }
 },
 "nbformat": 4,
 "nbformat_minor": 5
}
