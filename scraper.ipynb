{
 "cells": [
  {
   "cell_type": "code",
   "execution_count": 19,
   "id": "829c085f-9f21-44af-8fb9-e284d89ccb59",
   "metadata": {
    "tags": []
   },
   "outputs": [],
   "source": [
    "import cloudscraper\n",
    "from bs4 import BeautifulSoup as bsf\n",
    "import pandas as pd\n",
    "from lxml import etree\n",
    "import time\n",
    "import os"
   ]
  },
  {
   "cell_type": "code",
   "execution_count": 2,
   "id": "cc17d243-8cb6-488c-9c49-395f4a7e5766",
   "metadata": {
    "tags": []
   },
   "outputs": [
    {
     "name": "stderr",
     "output_type": "stream",
     "text": [
      "/Users/jibo16/environments/scraping_pp/lib/python3.11/site-packages/bs4/builder/__init__.py:545: XMLParsedAsHTMLWarning: It looks like you're parsing an XML document using an HTML parser. If this really is an HTML document (maybe it's XHTML?), you can ignore or filter this warning. If it's XML, you should know that using an XML parser will be more reliable. To parse this document as XML, make sure you have the lxml package installed, and pass the keyword argument `features=\"xml\"` into the BeautifulSoup constructor.\n",
      "  warnings.warn(\n"
     ]
    },
    {
     "data": {
      "text/plain": [
       "['https://www.inmuebles24.com/sitemap_prop_https_1.xml.gz',\n",
       " 'https://www.inmuebles24.com/sitemap_prop_https_2.xml.gz',\n",
       " 'https://www.inmuebles24.com/sitemap_prop_https_3.xml.gz',\n",
       " 'https://www.inmuebles24.com/sitemap_prop_https_4.xml.gz',\n",
       " 'https://www.inmuebles24.com/sitemap_prop_https_5.xml.gz',\n",
       " 'https://www.inmuebles24.com/sitemap_prop_https_6.xml.gz',\n",
       " 'https://www.inmuebles24.com/sitemap_prop_https_7.xml.gz',\n",
       " 'https://www.inmuebles24.com/sitemap_prop_https_8.xml.gz',\n",
       " 'https://www.inmuebles24.com/sitemap_prop_https_9.xml.gz',\n",
       " 'https://www.inmuebles24.com/sitemap_prop_https_10.xml.gz']"
      ]
     },
     "execution_count": 2,
     "metadata": {},
     "output_type": "execute_result"
    }
   ],
   "source": [
    "url = 'https://www.inmuebles24.com/sitemaps_https.xml'\n",
    "scraper = cloudscraper.create_scraper()\n",
    "\n",
    "res = scraper.get(url).text\n",
    "list_all_props = [i.text for i in bsf(res).find_all(\"loc\") if \"prop\" in i.text]\n",
    "list_all_props"
   ]
  },
  {
   "cell_type": "code",
   "execution_count": 3,
   "id": "c86c0aa3-f5df-4982-b75f-654ceded5333",
   "metadata": {
    "tags": []
   },
   "outputs": [
    {
     "data": {
      "text/plain": [
       "['https://www.inmuebles24.com/sitemap_list_https_1.xml.gz']"
      ]
     },
     "execution_count": 3,
     "metadata": {},
     "output_type": "execute_result"
    }
   ],
   "source": [
    "list_locs = [i.text for i in bsf(res).find_all(\"loc\") if \"list\" in i.text]\n",
    "list_locs"
   ]
  },
  {
   "cell_type": "code",
   "execution_count": 4,
   "id": "2d86be2f-8369-4868-9214-cf47cd09e221",
   "metadata": {},
   "outputs": [
    {
     "data": {
      "text/plain": [
       "['https://www.inmuebles24.com/sitemap_im_https_1.xml.gz']"
      ]
     },
     "execution_count": 4,
     "metadata": {},
     "output_type": "execute_result"
    }
   ],
   "source": [
    "inmobiliarias = [i.text for i in bsf(res).find_all(\"loc\") if \"im\" in i.text]\n",
    "inmobiliarias"
   ]
  },
  {
   "cell_type": "code",
   "execution_count": 7,
   "id": "dd1f5161-6ff4-46c6-b0cc-b693a03e064b",
   "metadata": {},
   "outputs": [],
   "source": [
    "list_all = [i.text for i in bsf(res).find_all(\"loc\")]"
   ]
  },
  {
   "cell_type": "code",
   "execution_count": 27,
   "id": "dfba31b8-b08e-4888-b1de-64fd545a19ba",
   "metadata": {},
   "outputs": [
    {
     "name": "stdout",
     "output_type": "stream",
     "text": [
      "200\n",
      "200\n",
      "200\n",
      "200\n",
      "200\n",
      "200\n",
      "200\n",
      "200\n",
      "200\n",
      "200\n",
      "200\n",
      "200\n",
      "200\n"
     ]
    }
   ],
   "source": [
    "def download_all(url):\n",
    "    ## Function for reading each url and storing them into a fixed \n",
    "    try:\n",
    "        download = scraper.get(url)\n",
    "        print(download.status_code)\n",
    "        filename = url.split(\"/\")[-1] or \"downloaded_file.xml.gz\"\n",
    "        directory = os.path.join(os.getcwd(), \"xml_storage\")\n",
    "        if not os.path.exists(directory): # handle exception if directory doesnt exists\n",
    "            os.makedirs(directory)\n",
    "        file_path = os.path.join(directory, filename)\n",
    "        with open(file_path, 'wb') as file:\n",
    "            file.write(download.content)\n",
    "    except:\n",
    "        print(f\"Error downloading {url}\")\n",
    "\n",
    "for i in list_all:\n",
    "    download_all(i)\n",
    "    time.sleep(5)"
   ]
  },
  {
   "cell_type": "code",
   "execution_count": 65,
   "id": "be0508a6-a9d6-4949-a208-2beb6f48e377",
   "metadata": {
    "scrolled": true
   },
   "outputs": [],
   "source": [
    "import pandas as pd\n",
    "import gzip\n",
    "from lxml import etree"
   ]
  },
  {
   "cell_type": "code",
   "execution_count": 62,
   "id": "b11ca5d8-85e4-4897-854a-27db608f41fc",
   "metadata": {},
   "outputs": [],
   "source": [
    "directory_xml = os.path.join(os.getcwd(),\"xml_storage\")\n",
    "\n",
    "\n",
    "def xml_reader_main():\n",
    "    ''' \n",
    "    Reads the xml files and creates a list to be read by the gzip, only if they exist\n",
    "    \n",
    "    '''\n",
    "    try:\n",
    "        xml_gz_files = [os.path.join(directory_xml,f) for f in os.listdir(directory_xml) if f.endswith('.xml.gz')]\n",
    "        return xml_gz_files\n",
    "    except:\n",
    "        print(\"directory doesn't exists or has no files\")\n",
    "       \n",
    "    \n"
   ]
  },
  {
   "cell_type": "code",
   "execution_count": 73,
   "id": "68950913-6dfa-4ce8-b5bb-cda65a71fa8b",
   "metadata": {},
   "outputs": [
    {
     "name": "stdout",
     "output_type": "stream",
     "text": [
      "50000\n"
     ]
    }
   ],
   "source": [
    "file_xml = xml_reader_main()[0]\n",
    "urls_dictionary = []\n",
    "with gzip.open(file_xml,'rb') as f:\n",
    "    cur= f.read()\n",
    "\n",
    "    tree = etree.fromstring(cur)\n",
    "    namespaces = tree.nsmap.copy()\n",
    "    for url in tree.findall('url', namespaces):\n",
    "        loc = url.find('loc', namespaces = namespaces).text\n",
    "        urls_dictionary.append({'loc':loc})\n",
    "\n",
    "\n",
    "print(len(urls_dictionary))"
   ]
  },
  {
   "cell_type": "code",
   "execution_count": 80,
   "id": "73c63bb0-5673-4367-b7cb-3a2d3650062d",
   "metadata": {},
   "outputs": [
    {
     "data": {
      "text/plain": [
       "'https://www.inmuebles24.com/propiedades/clasificado/veclocin-oficinas-venta-san-pedro-garza-garcia-zona-valle-40-71236737.html'"
      ]
     },
     "execution_count": 80,
     "metadata": {},
     "output_type": "execute_result"
    }
   ],
   "source": [
    "urls_dictionary[0]['loc']"
   ]
  },
  {
   "cell_type": "code",
   "execution_count": null,
   "id": "0ae54503-5958-44b3-ab3e-494c8335f9e0",
   "metadata": {},
   "outputs": [],
   "source": []
  }
 ],
 "metadata": {
  "kernelspec": {
   "display_name": "Python 3 (ipykernel)",
   "language": "python",
   "name": "python3"
  },
  "language_info": {
   "codemirror_mode": {
    "name": "ipython",
    "version": 3
   },
   "file_extension": ".py",
   "mimetype": "text/x-python",
   "name": "python",
   "nbconvert_exporter": "python",
   "pygments_lexer": "ipython3",
   "version": "3.11.4"
  }
 },
 "nbformat": 4,
 "nbformat_minor": 5
}
